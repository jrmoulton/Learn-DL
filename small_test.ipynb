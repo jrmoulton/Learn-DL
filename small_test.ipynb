{
 "cells": [
  {
   "cell_type": "code",
   "execution_count": 1,
   "metadata": {},
   "outputs": [],
   "source": [
    "from torch.utils.data import TensorDataset, DataLoader\n",
    "from torch import optim\n",
    "import pandas as pd\n",
    "import numpy as np\n",
    "import torch.nn as nn\n",
    "import torch.nn.functional as F\n",
    "import torch\n",
    "import matplotlib.pyplot as plt\n",
    "\n",
    "x = pd.read_csv(\"Data/x_train.csv\", index_col=0).values.reshape(-1, 28, 28)\n",
    "y = pd.read_csv(\"Data/y_train.csv\", index_col=0).values\n",
    "x_test = pd.read_csv(\"Data/x_test.csv\", index_col=0).values.reshape(-1, 28, 28)\n",
    "y_test = pd.read_csv(\"Data/y_test.csv\", index_col=0).values\n",
    "x, y, x_test, y_test = map(torch.tensor, (x, y, x_test, y_test))\n",
    "x = x.float().reshape(-1, 784)\n",
    "y = y.float().argmax(1)\n",
    "x_test = x_test.float().reshape(-1, 784)\n",
    "y_test = y_test.float().argmax(1)\n",
    "\n",
    "train_ds = TensorDataset(x, y)\n",
    "train_dl = DataLoader(train_ds, 64, shuffle=True)\n",
    "\n",
    "P = nn.Parameter"
   ]
  },
  {
   "cell_type": "code",
   "execution_count": 2,
   "metadata": {},
   "outputs": [],
   "source": [
    "def accuracy(out, yb):\n",
    "    return (out == yb).float().mean()"
   ]
  },
  {
   "cell_type": "code",
   "execution_count": 3,
   "metadata": {},
   "outputs": [],
   "source": [
    "def loss_func(preds, yb):\n",
    "    return torch.abs(preds - yb)"
   ]
  },
  {
   "cell_type": "code",
   "execution_count": 14,
   "metadata": {},
   "outputs": [],
   "source": [
    "class Model(nn.Module):\n",
    "    def __init__(self):\n",
    "        super().__init__()\n",
    "        self.w1 = P(torch.randn(784, 16, requires_grad=True) / np.sqrt(784/2))\n",
    "        self.b1 = P(torch.randn(16, requires_grad=True))\n",
    "        self.w2 = P(torch.randn(16, 16, requires_grad=True) / np.sqrt(16/2))\n",
    "        self.b2 = P(torch.randn(16, requires_grad=True))\n",
    "        self.w3 = P(torch.randn(16, 10, requires_grad=True) / np.sqrt(16/2))\n",
    "        self.b3 = P(torch.randn(10, requires_grad=True))\n",
    "\n",
    "    def forward(self, xb):\n",
    "        xb = F.relu(xb @ self.w1 + self.b1)\n",
    "        xb = F.relu(xb @ self.w2 + self.b2)\n",
    "        xb = xb @ self.w3 + self.b3\n",
    "        return xb\n",
    "\n",
    "    def update(self, epochs):\n",
    "        for i in range(epochs):\n",
    "            model.train()\n",
    "            for xb, yb, in train_dl:\n",
    "                preds = self.forward(xb)\n",
    "\n",
    "                loss = F.cross_entropy(preds, yb)\n",
    "\n",
    "                loss.backward()\n",
    "                opt.step()\n",
    "                opt.zero_grad()\n",
    "\n",
    "model = Model()"
   ]
  },
  {
   "cell_type": "code",
   "execution_count": 15,
   "metadata": {
    "tags": []
   },
   "outputs": [],
   "source": [
    "opt = optim.Adam(model.parameters(), 3e-4)\n",
    "model.update(5)"
   ]
  },
  {
   "cell_type": "code",
   "execution_count": 16,
   "metadata": {},
   "outputs": [
    {
     "output_type": "execute_result",
     "data": {
      "text/plain": "tensor(0.9206)"
     },
     "metadata": {},
     "execution_count": 16
    }
   ],
   "source": [
    "accuracy(model(x_test).argmax(1), y_test)"
   ]
  },
  {
   "cell_type": "code",
   "execution_count": null,
   "metadata": {},
   "outputs": [],
   "source": [
    "def test_hpyer(lr, momentum):\n",
    "    lr_list = np.random"
   ]
  },
  {
   "cell_type": "code",
   "execution_count": 36,
   "metadata": {},
   "outputs": [
    {
     "output_type": "execute_result",
     "data": {
      "text/plain": "[2.299271247959384,\n 2.107242613983106,\n 1.5199563255628565,\n 1.0635250819154412,\n 2.2193899914860324,\n 1.7866283517286292,\n 2.455543877593295,\n 1.5762308045273703,\n 2.3727701641653263,\n 1.141044942469097]"
     },
     "metadata": {},
     "execution_count": 36
    }
   ],
   "source": [
    "[1*10**x for x in np.random.rand(10) * 0.4]"
   ]
  },
  {
   "cell_type": "code",
   "execution_count": 33,
   "metadata": {},
   "outputs": [
    {
     "output_type": "execute_result",
     "data": {
      "text/plain": "200000.0"
     },
     "metadata": {},
     "execution_count": 33
    }
   ],
   "source": [
    "2e5"
   ]
  },
  {
   "cell_type": "code",
   "execution_count": null,
   "metadata": {},
   "outputs": [],
   "source": []
  }
 ],
 "metadata": {
  "language_info": {
   "codemirror_mode": {
    "name": "ipython",
    "version": 3
   },
   "file_extension": ".py",
   "mimetype": "text/x-python",
   "name": "python",
   "nbconvert_exporter": "python",
   "pygments_lexer": "ipython3",
   "version": "3.7.7-final"
  },
  "orig_nbformat": 2,
  "kernelspec": {
   "name": "python37764bitbeakerxcondae72893f172744a6f936c89100cfc5e25",
   "display_name": "Python 3.7.7 64-bit ('beakerx': conda)"
  }
 },
 "nbformat": 4,
 "nbformat_minor": 2
}