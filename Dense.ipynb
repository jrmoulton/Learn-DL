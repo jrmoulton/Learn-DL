{
 "cells": [
  {
   "cell_type": "code",
   "execution_count": 433,
   "metadata": {},
   "outputs": [],
   "source": [
    "from beakerx.object import beakerx\n",
    "import pandas as pd\n",
    "import numpy as np\n",
    "import matplotlib.pyplot as plt\n",
    "from sklearn.preprocessing import OneHotEncoder"
   ]
  },
  {
   "cell_type": "code",
   "execution_count": 436,
   "metadata": {},
   "outputs": [],
   "source": [
    "df = pd.read_csv(\"Data/mnist_train.csv\")\n",
    "y = df.label\n",
    "x = df.drop(\"label\", axis=1)\n",
    "x = x.values.reshape(60000,28,28)"
   ]
  },
  {
   "cell_type": "code",
   "execution_count": 437,
   "metadata": {},
   "outputs": [],
   "source": [
    "def scale(X, x_min=0, x_max=1):\n",
    "    nom = (X-X.min())*(x_max-x_min)\n",
    "    denom = X.max() - X.min()\n",
    "    denom = denom + (denom is 0)\n",
    "    return x_min + nom/denom"
   ]
  },
  {
   "cell_type": "code",
   "execution_count": 438,
   "metadata": {},
   "outputs": [],
   "source": [
    "def one_hot_enc(y):\n",
    "    b = np.zeros(y.size, y.max()+1)\n",
    "    b[np.arange(y.size), y] = 1\n",
    "    return b"
   ]
  },
  {
   "cell_type": "code",
   "execution_count": 439,
   "metadata": {},
   "outputs": [],
   "source": [
    "x = scale(x)"
   ]
  },
  {
   "cell_type": "code",
   "execution_count": 446,
   "metadata": {},
   "outputs": [],
   "source": [
    "enc = OneHotEncoder()\n",
    "y = enc.fit_transform(y.values.reshape(-1,1)).toarray()"
   ]
  },
  {
   "cell_type": "code",
   "execution_count": 447,
   "metadata": {},
   "outputs": [
    {
     "output_type": "execute_result",
     "data": {
      "text/plain": "array([[0., 0., 0., ..., 0., 0., 0.],\n       [1., 0., 0., ..., 0., 0., 0.],\n       [0., 0., 0., ..., 0., 0., 0.],\n       ...,\n       [0., 0., 0., ..., 0., 0., 0.],\n       [0., 0., 0., ..., 0., 0., 0.],\n       [0., 0., 0., ..., 0., 1., 0.]])"
     },
     "metadata": {},
     "execution_count": 447
    }
   ],
   "source": [
    "y"
   ]
  },
  {
   "cell_type": "code",
   "execution_count": 357,
   "metadata": {},
   "outputs": [
    {
     "output_type": "execute_result",
     "data": {
      "text/plain": "<matplotlib.image.AxesImage at 0x11e882150>"
     },
     "metadata": {},
     "execution_count": 357
    },
    {
     "output_type": "display_data",
     "data": {
      "text/plain": "<Figure size 432x288 with 1 Axes>",
      "image/svg+xml": "<?xml version=\"1.0\" encoding=\"utf-8\" standalone=\"no\"?>\n<!DOCTYPE svg PUBLIC \"-//W3C//DTD SVG 1.1//EN\"\n  \"http://www.w3.org/Graphics/SVG/1.1/DTD/svg11.dtd\">\n<!-- Created with matplotlib (https://matplotlib.org/) -->\n<svg height=\"248.518125pt\" version=\"1.1\" viewBox=\"0 0 251.565 248.518125\" width=\"251.565pt\" xmlns=\"http://www.w3.org/2000/svg\" xmlns:xlink=\"http://www.w3.org/1999/xlink\">\n <defs>\n  <style type=\"text/css\">\n*{stroke-linecap:butt;stroke-linejoin:round;}\n  </style>\n </defs>\n <g id=\"figure_1\">\n  <g id=\"patch_1\">\n   <path d=\"M 0 248.518125 \nL 251.565 248.518125 \nL 251.565 0 \nL 0 0 \nz\n\" style=\"fill:none;\"/>\n  </g>\n  <g id=\"axes_1\">\n   <g id=\"patch_2\">\n    <path d=\"M 26.925 224.64 \nL 244.365 224.64 \nL 244.365 7.2 \nL 26.925 7.2 \nz\n\" style=\"fill:#ffffff;\"/>\n   </g>\n   <g clip-path=\"url(#pd09f3bdfec)\">\n    <image height=\"218\" id=\"imageb502d0d8e5\" transform=\"scale(1 -1)translate(0 -218)\" width=\"218\" x=\"26.925\" xlink:href=\"data:image/png;base64,\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\" y=\"-6.64\"/>\n   </g>\n   <g id=\"matplotlib.axis_1\">\n    <g id=\"xtick_1\">\n     <g id=\"line2d_1\">\n      <defs>\n       <path d=\"M 0 0 \nL 0 3.5 \n\" id=\"mc369cefaa0\" style=\"stroke:#000000;stroke-width:0.8;\"/>\n      </defs>\n      <g>\n       <use style=\"stroke:#000000;stroke-width:0.8;\" x=\"30.807857\" xlink:href=\"#mc369cefaa0\" y=\"224.64\"/>\n      </g>\n     </g>\n     <g id=\"text_1\">\n      <!-- 0 -->\n      <defs>\n       <path d=\"M 31.78125 66.40625 \nQ 24.171875 66.40625 20.328125 58.90625 \nQ 16.5 51.421875 16.5 36.375 \nQ 16.5 21.390625 20.328125 13.890625 \nQ 24.171875 6.390625 31.78125 6.390625 \nQ 39.453125 6.390625 43.28125 13.890625 \nQ 47.125 21.390625 47.125 36.375 \nQ 47.125 51.421875 43.28125 58.90625 \nQ 39.453125 66.40625 31.78125 66.40625 \nz\nM 31.78125 74.21875 \nQ 44.046875 74.21875 50.515625 64.515625 \nQ 56.984375 54.828125 56.984375 36.375 \nQ 56.984375 17.96875 50.515625 8.265625 \nQ 44.046875 -1.421875 31.78125 -1.421875 \nQ 19.53125 -1.421875 13.0625 8.265625 \nQ 6.59375 17.96875 6.59375 36.375 \nQ 6.59375 54.828125 13.0625 64.515625 \nQ 19.53125 74.21875 31.78125 74.21875 \nz\n\" id=\"DejaVuSans-48\"/>\n      </defs>\n      <g transform=\"translate(27.626607 239.238437)scale(0.1 -0.1)\">\n       <use xlink:href=\"#DejaVuSans-48\"/>\n      </g>\n     </g>\n    </g>\n    <g id=\"xtick_2\">\n     <g id=\"line2d_2\">\n      <g>\n       <use style=\"stroke:#000000;stroke-width:0.8;\" x=\"69.636429\" xlink:href=\"#mc369cefaa0\" y=\"224.64\"/>\n      </g>\n     </g>\n     <g id=\"text_2\">\n      <!-- 5 -->\n      <defs>\n       <path d=\"M 10.796875 72.90625 \nL 49.515625 72.90625 \nL 49.515625 64.59375 \nL 19.828125 64.59375 \nL 19.828125 46.734375 \nQ 21.96875 47.46875 24.109375 47.828125 \nQ 26.265625 48.1875 28.421875 48.1875 \nQ 40.625 48.1875 47.75 41.5 \nQ 54.890625 34.8125 54.890625 23.390625 \nQ 54.890625 11.625 47.5625 5.09375 \nQ 40.234375 -1.421875 26.90625 -1.421875 \nQ 22.3125 -1.421875 17.546875 -0.640625 \nQ 12.796875 0.140625 7.71875 1.703125 \nL 7.71875 11.625 \nQ 12.109375 9.234375 16.796875 8.0625 \nQ 21.484375 6.890625 26.703125 6.890625 \nQ 35.15625 6.890625 40.078125 11.328125 \nQ 45.015625 15.765625 45.015625 23.390625 \nQ 45.015625 31 40.078125 35.4375 \nQ 35.15625 39.890625 26.703125 39.890625 \nQ 22.75 39.890625 18.8125 39.015625 \nQ 14.890625 38.140625 10.796875 36.28125 \nz\n\" id=\"DejaVuSans-53\"/>\n      </defs>\n      <g transform=\"translate(66.455179 239.238437)scale(0.1 -0.1)\">\n       <use xlink:href=\"#DejaVuSans-53\"/>\n      </g>\n     </g>\n    </g>\n    <g id=\"xtick_3\">\n     <g id=\"line2d_3\">\n      <g>\n       <use style=\"stroke:#000000;stroke-width:0.8;\" x=\"108.465\" xlink:href=\"#mc369cefaa0\" y=\"224.64\"/>\n      </g>\n     </g>\n     <g id=\"text_3\">\n      <!-- 10 -->\n      <defs>\n       <path d=\"M 12.40625 8.296875 \nL 28.515625 8.296875 \nL 28.515625 63.921875 \nL 10.984375 60.40625 \nL 10.984375 69.390625 \nL 28.421875 72.90625 \nL 38.28125 72.90625 \nL 38.28125 8.296875 \nL 54.390625 8.296875 \nL 54.390625 0 \nL 12.40625 0 \nz\n\" id=\"DejaVuSans-49\"/>\n      </defs>\n      <g transform=\"translate(102.1025 239.238437)scale(0.1 -0.1)\">\n       <use xlink:href=\"#DejaVuSans-49\"/>\n       <use x=\"63.623047\" xlink:href=\"#DejaVuSans-48\"/>\n      </g>\n     </g>\n    </g>\n    <g id=\"xtick_4\">\n     <g id=\"line2d_4\">\n      <g>\n       <use style=\"stroke:#000000;stroke-width:0.8;\" x=\"147.293571\" xlink:href=\"#mc369cefaa0\" y=\"224.64\"/>\n      </g>\n     </g>\n     <g id=\"text_4\">\n      <!-- 15 -->\n      <g transform=\"translate(140.931071 239.238437)scale(0.1 -0.1)\">\n       <use xlink:href=\"#DejaVuSans-49\"/>\n       <use x=\"63.623047\" xlink:href=\"#DejaVuSans-53\"/>\n      </g>\n     </g>\n    </g>\n    <g id=\"xtick_5\">\n     <g id=\"line2d_5\">\n      <g>\n       <use style=\"stroke:#000000;stroke-width:0.8;\" x=\"186.122143\" xlink:href=\"#mc369cefaa0\" y=\"224.64\"/>\n      </g>\n     </g>\n     <g id=\"text_5\">\n      <!-- 20 -->\n      <defs>\n       <path d=\"M 19.1875 8.296875 \nL 53.609375 8.296875 \nL 53.609375 0 \nL 7.328125 0 \nL 7.328125 8.296875 \nQ 12.9375 14.109375 22.625 23.890625 \nQ 32.328125 33.6875 34.8125 36.53125 \nQ 39.546875 41.84375 41.421875 45.53125 \nQ 43.3125 49.21875 43.3125 52.78125 \nQ 43.3125 58.59375 39.234375 62.25 \nQ 35.15625 65.921875 28.609375 65.921875 \nQ 23.96875 65.921875 18.8125 64.3125 \nQ 13.671875 62.703125 7.8125 59.421875 \nL 7.8125 69.390625 \nQ 13.765625 71.78125 18.9375 73 \nQ 24.125 74.21875 28.421875 74.21875 \nQ 39.75 74.21875 46.484375 68.546875 \nQ 53.21875 62.890625 53.21875 53.421875 \nQ 53.21875 48.921875 51.53125 44.890625 \nQ 49.859375 40.875 45.40625 35.40625 \nQ 44.1875 33.984375 37.640625 27.21875 \nQ 31.109375 20.453125 19.1875 8.296875 \nz\n\" id=\"DejaVuSans-50\"/>\n      </defs>\n      <g transform=\"translate(179.759643 239.238437)scale(0.1 -0.1)\">\n       <use xlink:href=\"#DejaVuSans-50\"/>\n       <use x=\"63.623047\" xlink:href=\"#DejaVuSans-48\"/>\n      </g>\n     </g>\n    </g>\n    <g id=\"xtick_6\">\n     <g id=\"line2d_6\">\n      <g>\n       <use style=\"stroke:#000000;stroke-width:0.8;\" x=\"224.950714\" xlink:href=\"#mc369cefaa0\" y=\"224.64\"/>\n      </g>\n     </g>\n     <g id=\"text_6\">\n      <!-- 25 -->\n      <g transform=\"translate(218.588214 239.238437)scale(0.1 -0.1)\">\n       <use xlink:href=\"#DejaVuSans-50\"/>\n       <use x=\"63.623047\" xlink:href=\"#DejaVuSans-53\"/>\n      </g>\n     </g>\n    </g>\n   </g>\n   <g id=\"matplotlib.axis_2\">\n    <g id=\"ytick_1\">\n     <g id=\"line2d_7\">\n      <defs>\n       <path d=\"M 0 0 \nL -3.5 0 \n\" id=\"m6fda9eab48\" style=\"stroke:#000000;stroke-width:0.8;\"/>\n      </defs>\n      <g>\n       <use style=\"stroke:#000000;stroke-width:0.8;\" x=\"26.925\" xlink:href=\"#m6fda9eab48\" y=\"11.082857\"/>\n      </g>\n     </g>\n     <g id=\"text_7\">\n      <!-- 0 -->\n      <g transform=\"translate(13.5625 14.882076)scale(0.1 -0.1)\">\n       <use xlink:href=\"#DejaVuSans-48\"/>\n      </g>\n     </g>\n    </g>\n    <g id=\"ytick_2\">\n     <g id=\"line2d_8\">\n      <g>\n       <use style=\"stroke:#000000;stroke-width:0.8;\" x=\"26.925\" xlink:href=\"#m6fda9eab48\" y=\"49.911429\"/>\n      </g>\n     </g>\n     <g id=\"text_8\">\n      <!-- 5 -->\n      <g transform=\"translate(13.5625 53.710647)scale(0.1 -0.1)\">\n       <use xlink:href=\"#DejaVuSans-53\"/>\n      </g>\n     </g>\n    </g>\n    <g id=\"ytick_3\">\n     <g id=\"line2d_9\">\n      <g>\n       <use style=\"stroke:#000000;stroke-width:0.8;\" x=\"26.925\" xlink:href=\"#m6fda9eab48\" y=\"88.74\"/>\n      </g>\n     </g>\n     <g id=\"text_9\">\n      <!-- 10 -->\n      <g transform=\"translate(7.2 92.539219)scale(0.1 -0.1)\">\n       <use xlink:href=\"#DejaVuSans-49\"/>\n       <use x=\"63.623047\" xlink:href=\"#DejaVuSans-48\"/>\n      </g>\n     </g>\n    </g>\n    <g id=\"ytick_4\">\n     <g id=\"line2d_10\">\n      <g>\n       <use style=\"stroke:#000000;stroke-width:0.8;\" x=\"26.925\" xlink:href=\"#m6fda9eab48\" y=\"127.568571\"/>\n      </g>\n     </g>\n     <g id=\"text_10\">\n      <!-- 15 -->\n      <g transform=\"translate(7.2 131.36779)scale(0.1 -0.1)\">\n       <use xlink:href=\"#DejaVuSans-49\"/>\n       <use x=\"63.623047\" xlink:href=\"#DejaVuSans-53\"/>\n      </g>\n     </g>\n    </g>\n    <g id=\"ytick_5\">\n     <g id=\"line2d_11\">\n      <g>\n       <use style=\"stroke:#000000;stroke-width:0.8;\" x=\"26.925\" xlink:href=\"#m6fda9eab48\" y=\"166.397143\"/>\n      </g>\n     </g>\n     <g id=\"text_11\">\n      <!-- 20 -->\n      <g transform=\"translate(7.2 170.196362)scale(0.1 -0.1)\">\n       <use xlink:href=\"#DejaVuSans-50\"/>\n       <use x=\"63.623047\" xlink:href=\"#DejaVuSans-48\"/>\n      </g>\n     </g>\n    </g>\n    <g id=\"ytick_6\">\n     <g id=\"line2d_12\">\n      <g>\n       <use style=\"stroke:#000000;stroke-width:0.8;\" x=\"26.925\" xlink:href=\"#m6fda9eab48\" y=\"205.225714\"/>\n      </g>\n     </g>\n     <g id=\"text_12\">\n      <!-- 25 -->\n      <g transform=\"translate(7.2 209.024933)scale(0.1 -0.1)\">\n       <use xlink:href=\"#DejaVuSans-50\"/>\n       <use x=\"63.623047\" xlink:href=\"#DejaVuSans-53\"/>\n      </g>\n     </g>\n    </g>\n   </g>\n   <g id=\"patch_3\">\n    <path d=\"M 26.925 224.64 \nL 26.925 7.2 \n\" style=\"fill:none;stroke:#000000;stroke-linecap:square;stroke-linejoin:miter;stroke-width:0.8;\"/>\n   </g>\n   <g id=\"patch_4\">\n    <path d=\"M 244.365 224.64 \nL 244.365 7.2 \n\" style=\"fill:none;stroke:#000000;stroke-linecap:square;stroke-linejoin:miter;stroke-width:0.8;\"/>\n   </g>\n   <g id=\"patch_5\">\n    <path d=\"M 26.925 224.64 \nL 244.365 224.64 \n\" style=\"fill:none;stroke:#000000;stroke-linecap:square;stroke-linejoin:miter;stroke-width:0.8;\"/>\n   </g>\n   <g id=\"patch_6\">\n    <path d=\"M 26.925 7.2 \nL 244.365 7.2 \n\" style=\"fill:none;stroke:#000000;stroke-linecap:square;stroke-linejoin:miter;stroke-width:0.8;\"/>\n   </g>\n  </g>\n </g>\n <defs>\n  <clipPath id=\"pd09f3bdfec\">\n   <rect height=\"217.44\" width=\"217.44\" x=\"26.925\" y=\"7.2\"/>\n  </clipPath>\n </defs>\n</svg>\n",
      "image/png": "[encoded data removed]"
     },
     "metadata": {
      "needs_background": "light"
     }
    }
   ],
   "source": [
    "test_pic = x[np.random.randint(0,len(x))]\n",
    "plt.imshow(test_pic, cmap=\"gray\")"
   ]
  },
  {
   "cell_type": "code",
   "execution_count": null,
   "metadata": {},
   "outputs": [],
   "source": [
    "784,[16,16,10]\n",
    "\n",
    "(784,16)\n",
    "(16,16)\n",
    "(16,10)"
   ]
  },
  {
   "cell_type": "code",
   "execution_count": 451,
   "metadata": {},
   "outputs": [],
   "source": [
    "class Dense:\n",
    "    def __init__(self, layers, img_rows, img_cols):\n",
    "        self.img_size = img_rows * img_cols\n",
    "        self.num_layers = len(layers)\n",
    "        self.layers = layers\n",
    "        self.biases = [np.random.randn(y) for y in layers]\n",
    "        self.weights = [np.random.randn(self.img_size,layers[0])]\n",
    "        for i in range(self.num_layers-1):\n",
    "            self.weights.append(np.random.randn(layers[i], layers[i+1]))\n",
    "\n",
    "\n",
    "    def forward(self, inp):\n",
    "        for b,w in zip(self.biases[:-1], self.weights[:-1]):\n",
    "            inp = self.relu(np.dot(inp, w) + b)\n",
    "        inp = self.sigmoid(np.dot(inp, self.weights[-1]) + self.biases[-1])\n",
    "        return inp\n",
    "\n",
    "    def train(self, data, labels, epochs=10, batch_size=100):\n",
    "        self.data = data\n",
    "        self.labels = labels\n",
    "        self.train_error = []\n",
    "        x_batch, y_batch =  self._get_batch(batch_size)\n",
    "\n",
    "        # TODO feed each image and track avg error. Compute gradient and backprop. \n",
    "\n",
    "        for _ in range(epochs):\n",
    "            x_batch_out = []\n",
    "            for img in x_batch:\n",
    "                #This could potentially be a large bottleneck that would see great perf. increase from GPU\n",
    "                x_batch_out.append(self.forward(img))\n",
    "            return (x_batch_out - y_batch) ** 2\n",
    "\n",
    "\n",
    "\n",
    "    def _get_batch(self, batch_size):\n",
    "        indices = np.random.randint(len(self.data), size=batch_size)\n",
    "        return self.data[indices].reshape(batch_size, 784), self.labels[indices]\n",
    "\n",
    "\n",
    "\n",
    "\n",
    "    def relu(self, inp):\n",
    "        return np.maximum(inp,  0)\n",
    "\n",
    "    def softmax(self, inp):\n",
    "        return (np.e ** inp) / (sum(np.e ** inp))\n",
    "\n",
    "    def sigmoid(self, inp):\n",
    "        return 1.0/(1.0+np.exp(-inp))\n"
   ]
  },
  {
   "cell_type": "code",
   "execution_count": 452,
   "metadata": {},
   "outputs": [],
   "source": [
    "temp = Dense([16,16,10], 28, 28)"
   ]
  },
  {
   "cell_type": "code",
   "execution_count": 453,
   "metadata": {},
   "outputs": [
    {
     "output_type": "execute_result",
     "data": {
      "text/plain": "array([[9.99999879e-001, 0.00000000e+000, 9.99690327e-001,\n        1.42942439e-010, 8.18619672e-026, 9.99999973e-001,\n        2.25962713e-041, 1.78781387e-041, 2.88003502e-032,\n        1.00000000e+000],\n       [1.00000000e+000, 1.00000000e+000, 9.99998948e-001,\n        1.04287263e-020, 3.32364063e-032, 1.29146799e-037,\n        9.97996308e-001, 8.73903167e-110, 1.00000000e+000,\n        9.99999368e-001],\n       [1.00000000e+000, 1.00000000e+000, 2.27537649e-002,\n        1.54131359e-014, 8.57609020e-048, 1.40796149e-019,\n        7.86948163e-021, 2.78906923e-084, 1.00000000e+000,\n        9.99999991e-001],\n       [6.76400829e-020, 1.00000000e+000, 7.55310984e-001,\n        3.59601194e-064, 1.09127537e-098, 4.54070280e-001,\n        1.94069890e-132, 3.39963542e-127, 1.49350046e-081,\n        1.00000000e+000],\n       [1.00000000e+000, 1.00000000e+000, 2.68307829e-008,\n        1.55134287e-053, 1.56041803e-063, 2.77645517e-004,\n        4.76234963e-008, 6.16327642e-118, 8.28791211e-079,\n        1.00000000e+000],\n       [9.99999999e-001, 1.00000000e+000, 9.99792552e-001,\n        1.40884445e-020, 5.89880586e-023, 5.88871403e-012,\n        9.99076614e-001, 5.16258669e-084, 1.00000000e+000,\n        9.99941572e-001],\n       [1.53465572e-005, 1.00000000e+000, 9.97699676e-001,\n        4.42280973e-041, 1.98896780e-042, 0.00000000e+000,\n        8.92801698e-088, 1.89593477e-052, 1.83252152e-041,\n        1.00000000e+000],\n       [1.00000000e+000, 1.00000000e+000, 5.04213699e-015,\n        3.78437107e-024, 8.02667201e-073, 9.99981713e-001,\n        9.73837859e-032, 7.49525464e-116, 1.00000000e+000,\n        1.00000000e+000],\n       [9.99999999e-001, 1.00000000e+000, 8.87097292e-001,\n        2.22757244e-007, 1.08471260e-024, 9.98948789e-001,\n        1.90584968e-015, 1.00000000e+000, 3.23358884e-029,\n        1.00000000e+000],\n       [1.00000000e+000, 9.50454143e-001, 3.72090272e-002,\n        2.58068995e-050, 9.99999909e-001, 1.00000000e+000,\n        3.15544362e-030, 7.43027991e-020, 2.71192412e-036,\n        1.00000000e+000]])"
     },
     "metadata": {},
     "execution_count": 453
    }
   ],
   "source": [
    "temp.train(x, y, epochs=1, batch_size=10)"
   ]
  },
  {
   "cell_type": "code",
   "execution_count": 394,
   "metadata": {},
   "outputs": [
    {
     "output_type": "execute_result",
     "data": {
      "text/plain": "array([1.20015435e-43, 2.12096547e-57, 1.19924020e-14, 4.21521268e-20,\n       7.33357979e-46, 1.00000000e+00, 9.97816600e-01, 1.00000000e+00,\n       6.07105029e-05, 9.99997972e-01])"
     },
     "metadata": {},
     "execution_count": 394
    }
   ],
   "source": [
    "temp.forward(test_pic.reshape(784))"
   ]
  },
  {
   "cell_type": "code",
   "execution_count": 367,
   "metadata": {},
   "outputs": [
    {
     "output_type": "execute_result",
     "data": {
      "text/plain": "array([[[0., 0., 0., ..., 0., 0., 0.],\n        [0., 0., 0., ..., 0., 0., 0.],\n        [0., 0., 0., ..., 0., 0., 0.],\n        ...,\n        [0., 0., 0., ..., 0., 0., 0.],\n        [0., 0., 0., ..., 0., 0., 0.],\n        [0., 0., 0., ..., 0., 0., 0.]],\n\n       [[0., 0., 0., ..., 0., 0., 0.],\n        [0., 0., 0., ..., 0., 0., 0.],\n        [0., 0., 0., ..., 0., 0., 0.],\n        ...,\n        [0., 0., 0., ..., 0., 0., 0.],\n        [0., 0., 0., ..., 0., 0., 0.],\n        [0., 0., 0., ..., 0., 0., 0.]],\n\n       [[0., 0., 0., ..., 0., 0., 0.],\n        [0., 0., 0., ..., 0., 0., 0.],\n        [0., 0., 0., ..., 0., 0., 0.],\n        ...,\n        [0., 0., 0., ..., 0., 0., 0.],\n        [0., 0., 0., ..., 0., 0., 0.],\n        [0., 0., 0., ..., 0., 0., 0.]],\n\n       [[0., 0., 0., ..., 0., 0., 0.],\n        [0., 0., 0., ..., 0., 0., 0.],\n        [0., 0., 0., ..., 0., 0., 0.],\n        ...,\n        [0., 0., 0., ..., 0., 0., 0.],\n        [0., 0., 0., ..., 0., 0., 0.],\n        [0., 0., 0., ..., 0., 0., 0.]]])"
     },
     "metadata": {},
     "execution_count": 367
    }
   ],
   "source": [
    "x[[1,2,3,4]]"
   ]
  },
  {
   "cell_type": "code",
   "execution_count": null,
   "metadata": {},
   "outputs": [],
   "source": []
  }
 ],
 "metadata": {
  "language_info": {
   "codemirror_mode": {
    "name": "ipython",
    "version": 3
   },
   "file_extension": ".py",
   "mimetype": "text/x-python",
   "name": "python",
   "nbconvert_exporter": "python",
   "pygments_lexer": "ipython3",
   "version": "3.7.7-final"
  },
  "orig_nbformat": 2,
  "kernelspec": {
   "name": "python37764bitbeakerxcondae72893f172744a6f936c89100cfc5e25",
   "display_name": "Python 3.7.7 64-bit ('beakerx': conda)"
  }
 },
 "nbformat": 4,
 "nbformat_minor": 2
}